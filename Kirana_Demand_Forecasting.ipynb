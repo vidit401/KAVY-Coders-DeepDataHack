{
 "cells": [
  {
   "cell_type": "markdown",
   "id": "07415090",
   "metadata": {},
   "source": [
    "# Local Retail Demand Forecasting for Kirana Stores"
   ]
  },
  {
   "cell_type": "code",
   "execution_count": null,
   "id": "67a809f1",
   "metadata": {},
   "outputs": [],
   "source": [
    "import pandas as pd\n",
    "from sklearn.model_selection import train_test_split\n",
    "from sklearn.ensemble import RandomForestRegressor\n",
    "from sklearn.metrics import mean_squared_error\n",
    "import numpy as np\n",
    "\n",
    "# Loading the dataset\n",
    "file_path = \"kiranaRO_train.csv\"  # <-- Make sure this file is in the same folder\n",
    "df = pd.read_csv(file_path)\n",
    "\n",
    "# Converting InvoiceDate to datetime\n",
    "df['InvoiceDate'] = pd.to_datetime(df['InvoiceDate'], errors='coerce')\n",
    "\n",
    "# Dropping rows with missing or invalid values\n",
    "df.dropna(subset=['InvoiceDate', 'StockCode', 'Description', 'Quantity', 'UnitPrice'], inplace=True)\n",
    "df = df[df['Quantity'] > 0]\n",
    "df = df[df['UnitPrice'] > 0]\n",
    "\n",
    "# Cleaning descriptions and add TotalPrice\n",
    "df['Description'] = df['Description'].str.strip().str.lower()\n",
    "df['TotalPrice'] = df['Quantity'] * df['UnitPrice']\n"
   ]
  },
  {
   "cell_type": "markdown",
   "id": "e2f614d7",
   "metadata": {},
   "source": [
    "## Feature Engineering"
   ]
  },
  {
   "cell_type": "code",
   "execution_count": null,
   "id": "87d8c366",
   "metadata": {},
   "outputs": [],
   "source": [
    "# Aggregating demand per product per day\n",
    "df['InvoiceDay'] = df['InvoiceDate'].dt.date\n",
    "daily_demand = (\n",
    "    df.groupby(['InvoiceDay', 'StockCode'])\n",
    "    .agg({'Quantity': 'sum', 'TotalPrice': 'sum'})\n",
    "    .reset_index()\n",
    ")\n",
    "\n",
    "# Sorting and preparing features\n",
    "daily_demand['InvoiceDay'] = pd.to_datetime(daily_demand['InvoiceDay'])\n",
    "daily_demand['dayofweek'] = daily_demand['InvoiceDay'].dt.dayofweek\n",
    "daily_demand['month'] = daily_demand['InvoiceDay'].dt.month\n",
    "daily_demand['StockCode'] = daily_demand['StockCode'].astype('category').cat.codes\n"
   ]
  },
  {
   "cell_type": "markdown",
   "id": "788b397a",
   "metadata": {},
   "source": [
    "## Model Training and Evaluation"
   ]
  },
  {
   "cell_type": "code",
   "execution_count": null,
   "id": "813ef6a6",
   "metadata": {},
   "outputs": [
    {
     "name": "stdout",
     "output_type": "stream",
     "text": [
      "RMSE: 52.31\n"
     ]
    },
    {
     "data": {
      "application/vnd.microsoft.datawrangler.viewer.v0+json": {
       "columns": [
        {
         "name": "index",
         "rawType": "int64",
         "type": "integer"
        },
        {
         "name": "StockCode",
         "rawType": "int16",
         "type": "integer"
        },
        {
         "name": "dayofweek",
         "rawType": "int32",
         "type": "integer"
        },
        {
         "name": "month",
         "rawType": "int32",
         "type": "integer"
        },
        {
         "name": "ActualQuantity",
         "rawType": "int64",
         "type": "integer"
        },
        {
         "name": "PredictedQuantity",
         "rawType": "float64",
         "type": "float"
        }
       ],
       "conversionMethod": "pd.DataFrame",
       "ref": "b42c067a-8728-4653-9f52-fcc2b5e36d3f",
       "rows": [
        [
         "74160",
         "185",
         "2",
         "4",
         "1",
         "6.294083333333333"
        ],
        [
         "70402",
         "423",
         "2",
         "4",
         "2",
         "9.226666666666667"
        ],
        [
         "219413",
         "1675",
         "4",
         "11",
         "2",
         "8.825"
        ],
        [
         "147205",
         "2146",
         "6",
         "8",
         "1",
         "12.591083333333332"
        ],
        [
         "78841",
         "1597",
         "2",
         "4",
         "8",
         "16.591630952380953"
        ]
       ],
       "shape": {
        "columns": 5,
        "rows": 5
       }
      },
      "text/html": [
       "<div>\n",
       "<style scoped>\n",
       "    .dataframe tbody tr th:only-of-type {\n",
       "        vertical-align: middle;\n",
       "    }\n",
       "\n",
       "    .dataframe tbody tr th {\n",
       "        vertical-align: top;\n",
       "    }\n",
       "\n",
       "    .dataframe thead th {\n",
       "        text-align: right;\n",
       "    }\n",
       "</style>\n",
       "<table border=\"1\" class=\"dataframe\">\n",
       "  <thead>\n",
       "    <tr style=\"text-align: right;\">\n",
       "      <th></th>\n",
       "      <th>StockCode</th>\n",
       "      <th>dayofweek</th>\n",
       "      <th>month</th>\n",
       "      <th>ActualQuantity</th>\n",
       "      <th>PredictedQuantity</th>\n",
       "    </tr>\n",
       "  </thead>\n",
       "  <tbody>\n",
       "    <tr>\n",
       "      <th>74160</th>\n",
       "      <td>185</td>\n",
       "      <td>2</td>\n",
       "      <td>4</td>\n",
       "      <td>1</td>\n",
       "      <td>6.294083</td>\n",
       "    </tr>\n",
       "    <tr>\n",
       "      <th>70402</th>\n",
       "      <td>423</td>\n",
       "      <td>2</td>\n",
       "      <td>4</td>\n",
       "      <td>2</td>\n",
       "      <td>9.226667</td>\n",
       "    </tr>\n",
       "    <tr>\n",
       "      <th>219413</th>\n",
       "      <td>1675</td>\n",
       "      <td>4</td>\n",
       "      <td>11</td>\n",
       "      <td>2</td>\n",
       "      <td>8.825000</td>\n",
       "    </tr>\n",
       "    <tr>\n",
       "      <th>147205</th>\n",
       "      <td>2146</td>\n",
       "      <td>6</td>\n",
       "      <td>8</td>\n",
       "      <td>1</td>\n",
       "      <td>12.591083</td>\n",
       "    </tr>\n",
       "    <tr>\n",
       "      <th>78841</th>\n",
       "      <td>1597</td>\n",
       "      <td>2</td>\n",
       "      <td>4</td>\n",
       "      <td>8</td>\n",
       "      <td>16.591631</td>\n",
       "    </tr>\n",
       "  </tbody>\n",
       "</table>\n",
       "</div>"
      ],
      "text/plain": [
       "        StockCode  dayofweek  month  ActualQuantity  PredictedQuantity\n",
       "74160         185          2      4               1           6.294083\n",
       "70402         423          2      4               2           9.226667\n",
       "219413       1675          4     11               2           8.825000\n",
       "147205       2146          6      8               1          12.591083\n",
       "78841        1597          2      4               8          16.591631"
      ]
     },
     "execution_count": 3,
     "metadata": {},
     "output_type": "execute_result"
    }
   ],
   "source": [
    "# Preparing features and target\n",
    "features = ['StockCode', 'dayofweek', 'month']\n",
    "X = daily_demand[features]\n",
    "y = daily_demand['Quantity']\n",
    "\n",
    "# Train-test split\n",
    "X_train, X_test, y_train, y_test = train_test_split(X, y, test_size=0.2, random_state=42)\n",
    "\n",
    "# Modeling training\n",
    "model = RandomForestRegressor(n_estimators=100, random_state=42)\n",
    "model.fit(X_train, y_train)\n",
    "\n",
    "# Predictions and evaluation\n",
    "y_pred = model.predict(X_test)\n",
    "rmse = np.sqrt(mean_squared_error(y_test, y_pred))\n",
    "print(f\"RMSE: {rmse:.2f}\")\n",
    "\n",
    "# predictions :)\n",
    "results = X_test.copy()\n",
    "results['ActualQuantity'] = y_test\n",
    "results['PredictedQuantity'] = y_pred\n",
    "results.head()\n"
   ]
  }
 ],
 "metadata": {
  "kernelspec": {
   "display_name": "base",
   "language": "python",
   "name": "python3"
  },
  "language_info": {
   "codemirror_mode": {
    "name": "ipython",
    "version": 3
   },
   "file_extension": ".py",
   "mimetype": "text/x-python",
   "name": "python",
   "nbconvert_exporter": "python",
   "pygments_lexer": "ipython3",
   "version": "3.10.14"
  }
 },
 "nbformat": 4,
 "nbformat_minor": 5
}
